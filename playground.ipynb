{
 "cells": [
  {
   "cell_type": "code",
   "execution_count": 1,
   "id": "72db6a5b",
   "metadata": {},
   "outputs": [],
   "source": [
    "import torch"
   ]
  },
  {
   "cell_type": "code",
   "execution_count": null,
   "id": "bd438084",
   "metadata": {},
   "outputs": [],
   "source": [
    "covs = torch.load(\"calibs/opt-1.3b-0_4-high_sample.pt\")\n",
    "cov_q = covs[\"cov_q\"]\n",
    "cov_k = covs[\"cov_k\"]\n",
    "\n",
    "print(f\"{cov_q.shape} {cov_k.shape}\")"
   ]
  }
 ],
 "metadata": {
  "kernelspec": {
   "display_name": ".venv",
   "language": "python",
   "name": "python3"
  },
  "language_info": {
   "codemirror_mode": {
    "name": "ipython",
    "version": 3
   },
   "file_extension": ".py",
   "mimetype": "text/x-python",
   "name": "python",
   "nbconvert_exporter": "python",
   "pygments_lexer": "ipython3",
   "version": "3.11.13"
  }
 },
 "nbformat": 4,
 "nbformat_minor": 5
}
